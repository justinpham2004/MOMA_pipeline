{
 "cells": [
  {
   "cell_type": "markdown",
   "id": "d93a1035-9ef4-4fa0-9c06-3b41a828b829",
   "metadata": {},
   "source": [
    "## Required Libraries\n"
   ]
  },
  {
   "cell_type": "code",
   "execution_count": 6,
   "id": "90a62e69-6e65-4c78-9807-20d4e9ddb5c9",
   "metadata": {},
   "outputs": [],
   "source": [
    "import pandas as pd\n",
    "import csv\n"
   ]
  },
  {
   "cell_type": "code",
   "execution_count": 9,
   "id": "1bb4165c-15d3-4c96-8f95-909761dde7bf",
   "metadata": {},
   "outputs": [
    {
     "name": "stdout",
     "output_type": "stream",
     "text": [
      "         USID cluster_algo  cluster_number   1   2   3   4   5   6   7  ...  \\\n",
      "0  8259001846       KMeans               2 NaN NaN NaN NaN NaN NaN NaN  ...   \n",
      "1  8259001847       KMeans               2 NaN NaN NaN NaN NaN NaN NaN  ...   \n",
      "2  8259001848       KMeans               2 NaN NaN NaN NaN NaN NaN NaN  ...   \n",
      "3  8259001849       KMeans               2 NaN NaN NaN NaN NaN NaN NaN  ...   \n",
      "4  8381000016       KMeans               2 NaN NaN NaN NaN NaN NaN NaN  ...   \n",
      "\n",
      "   Laser_Energy  Laser_Shots  Laser_StdDev  Phase  TIC  Max_Bin_Counts  \\\n",
      "0           NaN          NaN           NaN    NaN  NaN             NaN   \n",
      "1           NaN          NaN           NaN    NaN  NaN             NaN   \n",
      "2           NaN          NaN           NaN    NaN  NaN             NaN   \n",
      "3           NaN          NaN           NaN    NaN  NaN             NaN   \n",
      "4           NaN          NaN           NaN    NaN  NaN             NaN   \n",
      "\n",
      "   Charge_Control  category_label  sample_label  formationprocess_label  \n",
      "0             NaN             NaN           NaN                     NaN  \n",
      "1             NaN             NaN           NaN                     NaN  \n",
      "2             NaN             NaN           NaN                     NaN  \n",
      "3             NaN             NaN           NaN                     NaN  \n",
      "4             NaN             NaN           NaN                     NaN  \n",
      "\n",
      "[5 rows x 1062 columns]\n"
     ]
    }
   ],
   "source": [
    "input_tids = pd.read_csv('output4.csv')\n",
    "ms_data = pd.read_csv('MOMAdatasampled_intern.csv')\n",
    "combined_file = input_tids.merge(ms_data, how = 'left', on = 'USID')\n",
    "print(combined_file.head(5))\n",
    "combined_file.to_csv(\"merge_output\", index = False)"
   ]
  },
  {
   "cell_type": "code",
   "execution_count": null,
   "id": "6c095481-0050-4231-ae6e-f0fed2a1520b",
   "metadata": {},
   "outputs": [],
   "source": []
  },
  {
   "cell_type": "code",
   "execution_count": null,
   "id": "d856641b-8b22-4bb9-b06e-3358b8ad5968",
   "metadata": {},
   "outputs": [],
   "source": []
  },
  {
   "cell_type": "code",
   "execution_count": null,
   "id": "76850e23-f571-48a0-a972-643b193dba2c",
   "metadata": {},
   "outputs": [],
   "source": []
  }
 ],
 "metadata": {
  "kernelspec": {
   "display_name": "Python 3 (ipykernel)",
   "language": "python",
   "name": "python3"
  },
  "language_info": {
   "codemirror_mode": {
    "name": "ipython",
    "version": 3
   },
   "file_extension": ".py",
   "mimetype": "text/x-python",
   "name": "python",
   "nbconvert_exporter": "python",
   "pygments_lexer": "ipython3",
   "version": "3.12.4"
  }
 },
 "nbformat": 4,
 "nbformat_minor": 5
}
